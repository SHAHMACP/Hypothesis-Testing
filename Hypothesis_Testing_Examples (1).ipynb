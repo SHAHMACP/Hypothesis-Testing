{
  "cells": [
    {
      "cell_type": "markdown",
      "id": "786268e2",
      "metadata": {
        "id": "786268e2"
      },
      "source": [
        "# 📊 Hypothesis Testing Examples in Python\n",
        "\n",
        "This notebook demonstrates various hypothesis tests including:\n",
        "- One-sample t-test\n",
        "- Two-sample t-test\n",
        "- Chi-square test\n",
        "- F-test\n",
        "- One-tailed vs Two-tailed tests\n",
        "- A complete example: Effect of bio-fertilizer on plant growth"
      ]
    },
    {
      "cell_type": "markdown",
      "id": "697d0a50",
      "metadata": {
        "id": "697d0a50"
      },
      "source": [
        "## 🧪 One-Sample T-Test\n",
        "We test whether the mean of a sample differs significantly from a known population mean."
      ]
    },
    {
      "cell_type": "code",
      "execution_count": 1,
      "id": "84d78c94",
      "metadata": {
        "id": "84d78c94",
        "outputId": "ed6e9d03-06b0-467f-b504-17d93fadb4c9",
        "colab": {
          "base_uri": "https://localhost:8080/"
        }
      },
      "outputs": [
        {
          "output_type": "stream",
          "name": "stdout",
          "text": [
            "One-sample t-test\n",
            "t-statistic: 1.0345883127007152\n",
            "p-value: 0.32785934225479957\n",
            "Fail to reject the null hypothesis\n"
          ]
        }
      ],
      "source": [
        "import numpy as np\n",
        "from scipy import stats\n",
        "\n",
        "# One-sample t-test\n",
        "sample_scores = [78, 85, 82, 88, 90, 79, 84, 86, 81, 80]\n",
        "population_mean = 82\n",
        "\n",
        "t_stat, p_value = stats.ttest_1samp(sample_scores, population_mean)\n",
        "print(\"One-sample t-test\")\n",
        "print(\"t-statistic:\", t_stat)\n",
        "print(\"p-value:\", p_value)\n",
        "if p_value < 0.05:\n",
        "    print(\"Reject the null hypothesis\")\n",
        "else:\n",
        "    print(\"Fail to reject the null hypothesis\")\n"
      ]
    },
    {
      "cell_type": "markdown",
      "id": "3d08f674",
      "metadata": {
        "id": "3d08f674"
      },
      "source": [
        "## 🧪 Two-Sample T-Test\n",
        "We compare the means of two independent samples."
      ]
    },
    {
      "cell_type": "code",
      "execution_count": 2,
      "id": "22b7e1e7",
      "metadata": {
        "id": "22b7e1e7",
        "outputId": "6c16101d-d710-431c-f4c2-2d39efd2375e",
        "colab": {
          "base_uri": "https://localhost:8080/"
        }
      },
      "outputs": [
        {
          "output_type": "stream",
          "name": "stdout",
          "text": [
            "\n",
            "Two-sample t-test\n",
            "t-statistic: 3.594868137091671\n",
            "p-value: 0.007034543418149689\n",
            "Reject the null hypothesis\n"
          ]
        }
      ],
      "source": [
        "# Two-sample t-test\n",
        "group1 = [85, 86, 78, 90, 88]\n",
        "group2 = [75, 80, 79, 77, 74]\n",
        "\n",
        "t_stat, p_value = stats.ttest_ind(group1, group2)\n",
        "print(\"\\nTwo-sample t-test\")\n",
        "print(\"t-statistic:\", t_stat)\n",
        "print(\"p-value:\", p_value)\n",
        "if p_value < 0.05:\n",
        "    print(\"Reject the null hypothesis\")\n",
        "else:\n",
        "    print(\"Fail to reject the null hypothesis\")\n"
      ]
    },
    {
      "cell_type": "markdown",
      "id": "1f984911",
      "metadata": {
        "id": "1f984911"
      },
      "source": [
        "## 🔢 Chi-Square Test of Independence\n",
        "Used to determine if there is a significant association between two categorical variables."
      ]
    },
    {
      "cell_type": "code",
      "execution_count": 3,
      "id": "eb22c1f2",
      "metadata": {
        "id": "eb22c1f2",
        "outputId": "1ac6561c-77fd-4d09-b4cb-5dc89d7e7104",
        "colab": {
          "base_uri": "https://localhost:8080/"
        }
      },
      "outputs": [
        {
          "output_type": "stream",
          "name": "stdout",
          "text": [
            "Chi-square statistic: 15.041666666666666\n",
            "Degrees of freedom: 1\n",
            "Expected frequencies:\n",
            " [[20. 20.]\n",
            " [30. 30.]]\n",
            "p-value: 0.00010516355403363098\n",
            "Reject the null hypothesis - Variables are dependent\n"
          ]
        }
      ],
      "source": [
        "import numpy as np\n",
        "from scipy.stats import chi2_contingency\n",
        "\n",
        "# Contingency Table\n",
        "#       Likes  Dislikes\n",
        "# Male    30       10\n",
        "# Female  20       40\n",
        "data = np.array([[30, 10], [20, 40]])\n",
        "\n",
        "chi2, p, dof, expected = chi2_contingency(data)\n",
        "\n",
        "print(\"Chi-square statistic:\", chi2)\n",
        "print(\"Degrees of freedom:\", dof)\n",
        "print(\"Expected frequencies:\\n\", expected)\n",
        "print(\"p-value:\", p)\n",
        "if p < 0.05:\n",
        "    print(\"Reject the null hypothesis - Variables are dependent\")\n",
        "else:\n",
        "    print(\"Fail to reject the null hypothesis - Variables are independent\")\n"
      ]
    },
    {
      "cell_type": "markdown",
      "id": "1e555362",
      "metadata": {
        "id": "1e555362"
      },
      "source": [
        "## 🧪 F-Test\n",
        "Used to compare the variances of two populations."
      ]
    },
    {
      "cell_type": "code",
      "execution_count": 4,
      "id": "15f45dcd",
      "metadata": {
        "id": "15f45dcd",
        "outputId": "47639f58-cef2-4f92-b727-b341d264f0ec",
        "colab": {
          "base_uri": "https://localhost:8080/"
        }
      },
      "outputs": [
        {
          "output_type": "stream",
          "name": "stdout",
          "text": [
            "F-statistic: 1.0\n",
            "p-value: 0.5\n",
            "Fail to reject the null hypothesis - Variances are equal\n"
          ]
        }
      ],
      "source": [
        "group1 = [10, 12, 9, 11, 10]\n",
        "group2 = [14, 15, 13, 14, 16]\n",
        "\n",
        "var1 = np.var(group1, ddof=1)\n",
        "var2 = np.var(group2, ddof=1)\n",
        "f_stat = var1 / var2\n",
        "\n",
        "from scipy.stats import f\n",
        "dof1 = len(group1) - 1\n",
        "dof2 = len(group2) - 1\n",
        "\n",
        "p_value = 1 - f.cdf(f_stat, dof1, dof2)\n",
        "print(\"F-statistic:\", f_stat)\n",
        "print(\"p-value:\", p_value)\n",
        "if p_value < 0.05:\n",
        "    print(\"Reject the null hypothesis - Variances are different\")\n",
        "else:\n",
        "    print(\"Fail to reject the null hypothesis - Variances are equal\")\n"
      ]
    },
    {
      "cell_type": "markdown",
      "id": "c3fed18e",
      "metadata": {
        "id": "c3fed18e"
      },
      "source": [
        "## 🎯 One-Tailed vs Two-Tailed Tests\n",
        "Visualization of critical values for one-tailed and two-tailed tests."
      ]
    },
    {
      "cell_type": "code",
      "execution_count": 5,
      "id": "1a776466",
      "metadata": {
        "id": "1a776466",
        "outputId": "8e987cdf-69d5-45e5-f7b5-b860834d70bc",
        "colab": {
          "base_uri": "https://localhost:8080/",
          "height": 472
        }
      },
      "outputs": [
        {
          "output_type": "display_data",
          "data": {
            "text/plain": [
              "<Figure size 640x480 with 1 Axes>"
            ],
            "image/png": "[encoded data removed]"
          },
          "metadata": {}
        }
      ],
      "source": [
        "import matplotlib.pyplot as plt\n",
        "from scipy.stats import norm\n",
        "\n",
        "mu = 0\n",
        "sigma = 1\n",
        "x = np.linspace(-4, 4, 1000)\n",
        "y = norm.pdf(x, mu, sigma)\n",
        "\n",
        "plt.plot(x, y, label='Normal Distribution')\n",
        "plt.axvline(x=1.645, color='r', linestyle='--', label='One-tailed 5%')\n",
        "plt.axvline(x=1.96, color='g', linestyle='--', label='Two-tailed 5%')\n",
        "plt.axvline(x=-1.96, color='g', linestyle='--')\n",
        "plt.title('Critical Values in One-Tailed vs Two-Tailed Tests')\n",
        "plt.legend()\n",
        "plt.grid(True)\n",
        "plt.show()\n"
      ]
    },
    {
      "cell_type": "markdown",
      "id": "4347db88",
      "metadata": {
        "id": "4347db88"
      },
      "source": [
        "## 🌱 Example: Effect of Bio-Fertilizer on Plant Growth\n",
        "A researcher wants to determine if a bio-fertilizer increases plant height."
      ]
    },
    {
      "cell_type": "code",
      "execution_count": 6,
      "id": "ea54033f",
      "metadata": {
        "id": "ea54033f",
        "outputId": "f1848275-b3ab-4641-e912-308e339f91e2",
        "colab": {
          "base_uri": "https://localhost:8080/"
        }
      },
      "outputs": [
        {
          "output_type": "stream",
          "name": "stdout",
          "text": [
            "t-statistic: 6.4550\n",
            "one-tailed p-value: 0.0001\n",
            "✅ Reject the null hypothesis — Bio-fertilizer increases plant height.\n"
          ]
        }
      ],
      "source": [
        "# Sample data: Heights of 10 plants treated with fertilizer\n",
        "plant_heights = [53, 55, 52, 57, 54, 56, 58, 59, 52, 54]\n",
        "population_mean = 50  # known average height of untreated plants\n",
        "\n",
        "# One-sample t-test\n",
        "t_stat, p_value = stats.ttest_1samp(plant_heights, population_mean)\n",
        "\n",
        "# For one-tailed test (μ > μ₀), divide the p-value by 2\n",
        "p_value_one_tailed = p_value / 2\n",
        "\n",
        "print(f\"t-statistic: {t_stat:.4f}\")\n",
        "print(f\"one-tailed p-value: {p_value_one_tailed:.4f}\")\n",
        "if t_stat > 0 and p_value_one_tailed < 0.05:\n",
        "    print(\"✅ Reject the null hypothesis — Bio-fertilizer increases plant height.\")\n",
        "else:\n",
        "    print(\"❌ Fail to reject the null hypothesis — No sufficient evidence.\")\n"
      ]
    }
  ],
  "metadata": {
    "colab": {
      "provenance": []
    },
    "language_info": {
      "name": "python"
    },
    "kernelspec": {
      "name": "python3",
      "display_name": "Python 3"
    }
  },
  "nbformat": 4,
  "nbformat_minor": 5
}