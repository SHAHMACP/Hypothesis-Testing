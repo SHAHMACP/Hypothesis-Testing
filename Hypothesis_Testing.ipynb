{
  "nbformat": 4,
  "nbformat_minor": 0,
  "metadata": {
    "colab": {
      "provenance": []
    },
    "kernelspec": {
      "name": "python3",
      "display_name": "Python 3"
    },
    "language_info": {
      "name": "python"
    }
  },
  "cells": [
    {
      "cell_type": "code",
      "source": [
        "import pandas as pd\n",
        "import numpy as np\n",
        "import matplotlib.pyplot as plt\n",
        "from scipy.stats import norm\n",
        "from scipy.stats import ttest_ind, f_oneway, chi2_contingency, kstest\n",
        "from sklearn.datasets import load_iris"
      ],
      "metadata": {
        "id": "8Ff4w8tryAhI"
      },
      "execution_count": null,
      "outputs": []
    },
    {
      "cell_type": "code",
      "execution_count": null,
      "metadata": {
        "colab": {
          "base_uri": "https://localhost:8080/",
          "height": 206
        },
        "id": "qJp4RWRar9hi",
        "outputId": "c53dd781-097e-40b4-90fb-b70df140a873"
      },
      "outputs": [
        {
          "output_type": "execute_result",
          "data": {
            "text/plain": [
              "   sepal length (cm)  sepal width (cm)  petal length (cm)  petal width (cm)  \\\n",
              "0                5.1               3.5                1.4               0.2   \n",
              "1                4.9               3.0                1.4               0.2   \n",
              "2                4.7               3.2                1.3               0.2   \n",
              "3                4.6               3.1                1.5               0.2   \n",
              "4                5.0               3.6                1.4               0.2   \n",
              "\n",
              "  species  \n",
              "0  setosa  \n",
              "1  setosa  \n",
              "2  setosa  \n",
              "3  setosa  \n",
              "4  setosa  "
            ],
            "text/html": [
              "\n",
              "  <div id=\"df-5980c7af-ca7a-441e-8fa2-d8c4fcb0f0a4\" class=\"colab-df-container\">\n",
              "    <div>\n",
              "<style scoped>\n",
              "    .dataframe tbody tr th:only-of-type {\n",
              "        vertical-align: middle;\n",
              "    }\n",
              "\n",
              "    .dataframe tbody tr th {\n",
              "        vertical-align: top;\n",
              "    }\n",
              "\n",
              "    .dataframe thead th {\n",
              "        text-align: right;\n",
              "    }\n",
              "</style>\n",
              "<table border=\"1\" class=\"dataframe\">\n",
              "  <thead>\n",
              "    <tr style=\"text-align: right;\">\n",
              "      <th></th>\n",
              "      <th>sepal length (cm)</th>\n",
              "      <th>sepal width (cm)</th>\n",
              "      <th>petal length (cm)</th>\n",
              "      <th>petal width (cm)</th>\n",
              "      <th>species</th>\n",
              "    </tr>\n",
              "  </thead>\n",
              "  <tbody>\n",
              "    <tr>\n",
              "      <th>0</th>\n",
              "      <td>5.1</td>\n",
              "      <td>3.5</td>\n",
              "      <td>1.4</td>\n",
              "      <td>0.2</td>\n",
              "      <td>setosa</td>\n",
              "    </tr>\n",
              "    <tr>\n",
              "      <th>1</th>\n",
              "      <td>4.9</td>\n",
              "      <td>3.0</td>\n",
              "      <td>1.4</td>\n",
              "      <td>0.2</td>\n",
              "      <td>setosa</td>\n",
              "    </tr>\n",
              "    <tr>\n",
              "      <th>2</th>\n",
              "      <td>4.7</td>\n",
              "      <td>3.2</td>\n",
              "      <td>1.3</td>\n",
              "      <td>0.2</td>\n",
              "      <td>setosa</td>\n",
              "    </tr>\n",
              "    <tr>\n",
              "      <th>3</th>\n",
              "      <td>4.6</td>\n",
              "      <td>3.1</td>\n",
              "      <td>1.5</td>\n",
              "      <td>0.2</td>\n",
              "      <td>setosa</td>\n",
              "    </tr>\n",
              "    <tr>\n",
              "      <th>4</th>\n",
              "      <td>5.0</td>\n",
              "      <td>3.6</td>\n",
              "      <td>1.4</td>\n",
              "      <td>0.2</td>\n",
              "      <td>setosa</td>\n",
              "    </tr>\n",
              "  </tbody>\n",
              "</table>\n",
              "</div>\n",
              "    <div class=\"colab-df-buttons\">\n",
              "\n",
              "  <div class=\"colab-df-container\">\n",
              "    <button class=\"colab-df-convert\" onclick=\"convertToInteractive('df-5980c7af-ca7a-441e-8fa2-d8c4fcb0f0a4')\"\n",
              "            title=\"Convert this dataframe to an interactive table.\"\n",
              "            style=\"display:none;\">\n",
              "\n",
              "  <svg xmlns=\"http://www.w3.org/2000/svg\" height=\"24px\" viewBox=\"0 -960 960 960\">\n",
              "    <path d=\"M120-120v-720h720v720H120Zm60-500h600v-160H180v160Zm220 220h160v-160H400v160Zm0 220h160v-160H400v160ZM180-400h160v-160H180v160Zm440 0h160v-160H620v160ZM180-180h160v-160H180v160Zm440 0h160v-160H620v160Z\"/>\n",
              "  </svg>\n",
              "    </button>\n",
              "\n",
              "  <style>\n",
              "    .colab-df-container {\n",
              "      display:flex;\n",
              "      gap: 12px;\n",
              "    }\n",
              "\n",
              "    .colab-df-convert {\n",
              "      background-color: #E8F0FE;\n",
              "      border: none;\n",
              "      border-radius: 50%;\n",
              "      cursor: pointer;\n",
              "      display: none;\n",
              "      fill: #1967D2;\n",
              "      height: 32px;\n",
              "      padding: 0 0 0 0;\n",
              "      width: 32px;\n",
              "    }\n",
              "\n",
              "    .colab-df-convert:hover {\n",
              "      background-color: #E2EBFA;\n",
              "      box-shadow: 0px 1px 2px rgba(60, 64, 67, 0.3), 0px 1px 3px 1px rgba(60, 64, 67, 0.15);\n",
              "      fill: #174EA6;\n",
              "    }\n",
              "\n",
              "    .colab-df-buttons div {\n",
              "      margin-bottom: 4px;\n",
              "    }\n",
              "\n",
              "    [theme=dark] .colab-df-convert {\n",
              "      background-color: #3B4455;\n",
              "      fill: #D2E3FC;\n",
              "    }\n",
              "\n",
              "    [theme=dark] .colab-df-convert:hover {\n",
              "      background-color: #434B5C;\n",
              "      box-shadow: 0px 1px 3px 1px rgba(0, 0, 0, 0.15);\n",
              "      filter: drop-shadow(0px 1px 2px rgba(0, 0, 0, 0.3));\n",
              "      fill: #FFFFFF;\n",
              "    }\n",
              "  </style>\n",
              "\n",
              "    <script>\n",
              "      const buttonEl =\n",
              "        document.querySelector('#df-5980c7af-ca7a-441e-8fa2-d8c4fcb0f0a4 button.colab-df-convert');\n",
              "      buttonEl.style.display =\n",
              "        google.colab.kernel.accessAllowed ? 'block' : 'none';\n",
              "\n",
              "      async function convertToInteractive(key) {\n",
              "        const element = document.querySelector('#df-5980c7af-ca7a-441e-8fa2-d8c4fcb0f0a4');\n",
              "        const dataTable =\n",
              "          await google.colab.kernel.invokeFunction('convertToInteractive',\n",
              "                                                    [key], {});\n",
              "        if (!dataTable) return;\n",
              "\n",
              "        const docLinkHtml = 'Like what you see? Visit the ' +\n",
              "          '<a target=\"_blank\" href=https://colab.research.google.com/notebooks/data_table.ipynb>data table notebook</a>'\n",
              "          + ' to learn more about interactive tables.';\n",
              "        element.innerHTML = '';\n",
              "        dataTable['output_type'] = 'display_data';\n",
              "        await google.colab.output.renderOutput(dataTable, element);\n",
              "        const docLink = document.createElement('div');\n",
              "        docLink.innerHTML = docLinkHtml;\n",
              "        element.appendChild(docLink);\n",
              "      }\n",
              "    </script>\n",
              "  </div>\n",
              "\n",
              "\n",
              "<div id=\"df-bdebb2a3-e961-4160-a38e-bf7f75bce80c\">\n",
              "  <button class=\"colab-df-quickchart\" onclick=\"quickchart('df-bdebb2a3-e961-4160-a38e-bf7f75bce80c')\"\n",
              "            title=\"Suggest charts\"\n",
              "            style=\"display:none;\">\n",
              "\n",
              "<svg xmlns=\"http://www.w3.org/2000/svg\" height=\"24px\"viewBox=\"0 0 24 24\"\n",
              "     width=\"24px\">\n",
              "    <g>\n",
              "        <path d=\"M19 3H5c-1.1 0-2 .9-2 2v14c0 1.1.9 2 2 2h14c1.1 0 2-.9 2-2V5c0-1.1-.9-2-2-2zM9 17H7v-7h2v7zm4 0h-2V7h2v10zm4 0h-2v-4h2v4z\"/>\n",
              "    </g>\n",
              "</svg>\n",
              "  </button>\n",
              "\n",
              "<style>\n",
              "  .colab-df-quickchart {\n",
              "      --bg-color: #E8F0FE;\n",
              "      --fill-color: #1967D2;\n",
              "      --hover-bg-color: #E2EBFA;\n",
              "      --hover-fill-color: #174EA6;\n",
              "      --disabled-fill-color: #AAA;\n",
              "      --disabled-bg-color: #DDD;\n",
              "  }\n",
              "\n",
              "  [theme=dark] .colab-df-quickchart {\n",
              "      --bg-color: #3B4455;\n",
              "      --fill-color: #D2E3FC;\n",
              "      --hover-bg-color: #434B5C;\n",
              "      --hover-fill-color: #FFFFFF;\n",
              "      --disabled-bg-color: #3B4455;\n",
              "      --disabled-fill-color: #666;\n",
              "  }\n",
              "\n",
              "  .colab-df-quickchart {\n",
              "    background-color: var(--bg-color);\n",
              "    border: none;\n",
              "    border-radius: 50%;\n",
              "    cursor: pointer;\n",
              "    display: none;\n",
              "    fill: var(--fill-color);\n",
              "    height: 32px;\n",
              "    padding: 0;\n",
              "    width: 32px;\n",
              "  }\n",
              "\n",
              "  .colab-df-quickchart:hover {\n",
              "    background-color: var(--hover-bg-color);\n",
              "    box-shadow: 0 1px 2px rgba(60, 64, 67, 0.3), 0 1px 3px 1px rgba(60, 64, 67, 0.15);\n",
              "    fill: var(--button-hover-fill-color);\n",
              "  }\n",
              "\n",
              "  .colab-df-quickchart-complete:disabled,\n",
              "  .colab-df-quickchart-complete:disabled:hover {\n",
              "    background-color: var(--disabled-bg-color);\n",
              "    fill: var(--disabled-fill-color);\n",
              "    box-shadow: none;\n",
              "  }\n",
              "\n",
              "  .colab-df-spinner {\n",
              "    border: 2px solid var(--fill-color);\n",
              "    border-color: transparent;\n",
              "    border-bottom-color: var(--fill-color);\n",
              "    animation:\n",
              "      spin 1s steps(1) infinite;\n",
              "  }\n",
              "\n",
              "  @keyframes spin {\n",
              "    0% {\n",
              "      border-color: transparent;\n",
              "      border-bottom-color: var(--fill-color);\n",
              "      border-left-color: var(--fill-color);\n",
              "    }\n",
              "    20% {\n",
              "      border-color: transparent;\n",
              "      border-left-color: var(--fill-color);\n",
              "      border-top-color: var(--fill-color);\n",
              "    }\n",
              "    30% {\n",
              "      border-color: transparent;\n",
              "      border-left-color: var(--fill-color);\n",
              "      border-top-color: var(--fill-color);\n",
              "      border-right-color: var(--fill-color);\n",
              "    }\n",
              "    40% {\n",
              "      border-color: transparent;\n",
              "      border-right-color: var(--fill-color);\n",
              "      border-top-color: var(--fill-color);\n",
              "    }\n",
              "    60% {\n",
              "      border-color: transparent;\n",
              "      border-right-color: var(--fill-color);\n",
              "    }\n",
              "    80% {\n",
              "      border-color: transparent;\n",
              "      border-right-color: var(--fill-color);\n",
              "      border-bottom-color: var(--fill-color);\n",
              "    }\n",
              "    90% {\n",
              "      border-color: transparent;\n",
              "      border-bottom-color: var(--fill-color);\n",
              "    }\n",
              "  }\n",
              "</style>\n",
              "\n",
              "  <script>\n",
              "    async function quickchart(key) {\n",
              "      const quickchartButtonEl =\n",
              "        document.querySelector('#' + key + ' button');\n",
              "      quickchartButtonEl.disabled = true;  // To prevent multiple clicks.\n",
              "      quickchartButtonEl.classList.add('colab-df-spinner');\n",
              "      try {\n",
              "        const charts = await google.colab.kernel.invokeFunction(\n",
              "            'suggestCharts', [key], {});\n",
              "      } catch (error) {\n",
              "        console.error('Error during call to suggestCharts:', error);\n",
              "      }\n",
              "      quickchartButtonEl.classList.remove('colab-df-spinner');\n",
              "      quickchartButtonEl.classList.add('colab-df-quickchart-complete');\n",
              "    }\n",
              "    (() => {\n",
              "      let quickchartButtonEl =\n",
              "        document.querySelector('#df-bdebb2a3-e961-4160-a38e-bf7f75bce80c button');\n",
              "      quickchartButtonEl.style.display =\n",
              "        google.colab.kernel.accessAllowed ? 'block' : 'none';\n",
              "    })();\n",
              "  </script>\n",
              "</div>\n",
              "\n",
              "    </div>\n",
              "  </div>\n"
            ],
            "application/vnd.google.colaboratory.intrinsic+json": {
              "type": "dataframe",
              "variable_name": "df",
              "summary": "{\n  \"name\": \"df\",\n  \"rows\": 150,\n  \"fields\": [\n    {\n      \"column\": \"sepal length (cm)\",\n      \"properties\": {\n        \"dtype\": \"number\",\n        \"std\": 0.8280661279778629,\n        \"min\": 4.3,\n        \"max\": 7.9,\n        \"num_unique_values\": 35,\n        \"samples\": [\n          6.2,\n          4.5,\n          5.6\n        ],\n        \"semantic_type\": \"\",\n        \"description\": \"\"\n      }\n    },\n    {\n      \"column\": \"sepal width (cm)\",\n      \"properties\": {\n        \"dtype\": \"number\",\n        \"std\": 0.435866284936698,\n        \"min\": 2.0,\n        \"max\": 4.4,\n        \"num_unique_values\": 23,\n        \"samples\": [\n          2.3,\n          4.0,\n          3.5\n        ],\n        \"semantic_type\": \"\",\n        \"description\": \"\"\n      }\n    },\n    {\n      \"column\": \"petal length (cm)\",\n      \"properties\": {\n        \"dtype\": \"number\",\n        \"std\": 1.7652982332594667,\n        \"min\": 1.0,\n        \"max\": 6.9,\n        \"num_unique_values\": 43,\n        \"samples\": [\n          6.7,\n          3.8,\n          3.7\n        ],\n        \"semantic_type\": \"\",\n        \"description\": \"\"\n      }\n    },\n    {\n      \"column\": \"petal width (cm)\",\n      \"properties\": {\n        \"dtype\": \"number\",\n        \"std\": 0.7622376689603465,\n        \"min\": 0.1,\n        \"max\": 2.5,\n        \"num_unique_values\": 22,\n        \"samples\": [\n          0.2,\n          1.2,\n          1.3\n        ],\n        \"semantic_type\": \"\",\n        \"description\": \"\"\n      }\n    },\n    {\n      \"column\": \"species\",\n      \"properties\": {\n        \"dtype\": \"category\",\n        \"num_unique_values\": 3,\n        \"samples\": [\n          \"setosa\",\n          \"versicolor\",\n          \"virginica\"\n        ],\n        \"semantic_type\": \"\",\n        \"description\": \"\"\n      }\n    }\n  ]\n}"
            }
          },
          "metadata": {},
          "execution_count": 23
        }
      ],
      "source": [
        "# Load the Iris dataset\n",
        "data = load_iris()\n",
        "df = pd.DataFrame(data.data, columns=data.feature_names)\n",
        "df['species'] = data.target\n",
        "df['species'] = df['species'].map({0: 'setosa', 1: 'versicolor', 2: 'virginica'})\n",
        "\n",
        "# Display the first few rows\n",
        "df.head()"
      ]
    },
    {
      "cell_type": "code",
      "source": [
        "def perform_hypothesis_test(stat, p_value, alpha=0.05, null_hypothesis=\"\", alternative_hypothesis=\"\"):\n",
        "    \"\"\"\n",
        "    Perform hypothesis testing using a common decision rule for the p-value.\n",
        "\n",
        "    Parameters:\n",
        "    - stat : The test statistic.\n",
        "    - p_value : The p-value obtained from the test.\n",
        "    - alpha : The significance level (default: 0.05).\n",
        "    - null_hypothesis : Description of the null hypothesis.\n",
        "    - alternative_hypothesis : Description of the alternative hypothesis.\n",
        "\n",
        "    Returns:\n",
        "    - Dictionary containing results and decision.\n",
        "    \"\"\"\n",
        "    # Decision Rule: Common for all tests\n",
        "    decision = (\n",
        "        f\"Reject the null hypothesis: {alternative_hypothesis}\"\n",
        "        if p_value < alpha\n",
        "        else f\"Fail to reject the null hypothesis: {null_hypothesis}\"\n",
        "    )\n",
        "\n",
        "    return {\n",
        "        \"statistic\": stat,\n",
        "        \"p_value\": p_value,\n",
        "        \"alpha\": alpha,\n",
        "        \"null_hypothesis\": null_hypothesis,\n",
        "        \"alternative_hypothesis\": alternative_hypothesis,\n",
        "        \"decision\": decision,\n",
        "    }\n"
      ],
      "metadata": {
        "id": "IZ8s18oc05iL"
      },
      "execution_count": null,
      "outputs": []
    },
    {
      "cell_type": "markdown",
      "source": [
        "# **Z-Test (One-Sample)**\n",
        "> Compare mean of a sample to a known population mean"
      ],
      "metadata": {
        "id": "t2G29cFUWG2E"
      }
    },
    {
      "cell_type": "markdown",
      "source": [
        "Test if the mean sepal length of Versicolor is significantly different from the population mean of 6.0 (hypothetical population mean).\n",
        "\n",
        "- **Null Hypothesis** (𝐻0): *The mean sepal length of Versicolor is equal to 6.0.*\n",
        "- **Alternative Hypothesis** (𝐻1): *The mean sepal length of Versicolor is not equal to 6.0.*"
      ],
      "metadata": {
        "id": "WTJI3yK5W9sd"
      }
    },
    {
      "cell_type": "code",
      "source": [
        "from statsmodels.stats.weightstats import ztest\n",
        "\n",
        "# Data preparation\n",
        "versicolor_sepal_length = df[df['species'] == 'versicolor']['sepal length (cm)']\n",
        "\n",
        "# Perform One-Sample Z-Test\n",
        "# Population mean = 6.0\n",
        "stat, p_value = ztest(versicolor_sepal_length, value=6.0)\n",
        "\n",
        "# Use the generalized decision function\n",
        "result_z_test_one_sample = perform_hypothesis_test(\n",
        "    stat=stat,\n",
        "    p_value=p_value,\n",
        "    alpha=0.05,\n",
        "    null_hypothesis=\"The mean sepal length of Versicolor is equal to 6.0.\",\n",
        "    alternative_hypothesis=\"The mean sepal length of Versicolor is not equal to 6.0.\",\n",
        ")\n",
        "print(\"One-Sample Z-Test Results:\")\n",
        "result_z_test_one_sample\n"
      ],
      "metadata": {
        "colab": {
          "base_uri": "https://localhost:8080/"
        },
        "id": "11QENIJAXhc1",
        "outputId": "8b8c2868-c0b2-4b1d-b1d0-767852c1dd50"
      },
      "execution_count": null,
      "outputs": [
        {
          "output_type": "stream",
          "name": "stdout",
          "text": [
            "One-Sample Z-Test Results:\n"
          ]
        },
        {
          "output_type": "execute_result",
          "data": {
            "text/plain": [
              "{'statistic': -0.8767408688641777,\n",
              " 'p_value': 0.3806274030991602,\n",
              " 'alpha': 0.05,\n",
              " 'null_hypothesis': 'The mean sepal length of Versicolor is equal to 6.0.',\n",
              " 'alternative_hypothesis': 'The mean sepal length of Versicolor is not equal to 6.0.',\n",
              " 'decision': 'Fail to reject the null hypothesis: The mean sepal length of Versicolor is equal to 6.0.'}"
            ]
          },
          "metadata": {},
          "execution_count": 25
        }
      ]
    },
    {
      "cell_type": "code",
      "source": [
        "# @title\n",
        "import numpy as np\n",
        "import matplotlib.pyplot as plt\n",
        "from scipy.stats import norm\n",
        "\n",
        "# Z-Test results\n",
        "stat = result_z_test_one_sample['statistic']  # Test statistic from the Z-test\n",
        "alpha = result_z_test_one_sample['alpha']    # Significance level\n",
        "p_value = result_z_test_one_sample['p_value']  # P-value\n",
        "\n",
        "# Critical values for a two-tailed test\n",
        "critical_value = norm.ppf(1 - alpha / 2)  # Right-tailed critical value\n",
        "negative_critical_value = -critical_value  # Left-tailed critical value\n",
        "\n",
        "# Z-values and the normal curve\n",
        "x = np.linspace(-4, 4, 1000)  # Z-values for plotting\n",
        "y = norm.pdf(x)  # Probability density function of the normal distribution\n",
        "\n",
        "# Plotting the standard normal curve\n",
        "plt.figure(figsize=(10, 6))\n",
        "plt.plot(x, y, color='blue', label=\"Standard Normal Distribution\")\n",
        "\n",
        "# Shading the rejection regions\n",
        "plt.fill_between(x, y, 0, where=(x <= negative_critical_value), color='red', alpha=0.3, label=\"Rejection Region\")\n",
        "plt.fill_between(x, y, 0, where=(x >= critical_value), color='red', alpha=0.3)\n",
        "\n",
        "# Adding critical values\n",
        "plt.axvline(negative_critical_value, color='green', linestyle='--', label=f\"Critical Value (Z = {negative_critical_value:.2f})\")\n",
        "plt.axvline(critical_value, color='green', linestyle='--', label=f\"Critical Value (Z = {critical_value:.2f})\")\n",
        "\n",
        "# Adding the test statistic\n",
        "plt.axvline(stat, color='red', linestyle='--', linewidth=1.5, label=f\"Test Statistic (Z = {stat:.2f})\")\n",
        "\n",
        "# Labels, legend, and title\n",
        "plt.title(\"One-Sample Z-Test: Acceptance and Rejection Regions\", fontsize=16)\n",
        "plt.xlabel(\"Z-Value\", fontsize=14)\n",
        "plt.ylabel(\"Density\", fontsize=14)\n",
        "plt.legend(fontsize=12)\n",
        "plt.grid(alpha=0.4)\n",
        "plt.show()\n"
      ],
      "metadata": {
        "colab": {
          "base_uri": "https://localhost:8080/",
          "height": 524
        },
        "id": "eH8k3XxqE70b",
        "outputId": "60fc790c-481f-4583-94cf-ca423a6f789e"
      },
      "execution_count": null,
      "outputs": [
        {
          "output_type": "display_data",
          "data": {
            "text/plain": [
              "<Figure size 1000x600 with 1 Axes>"
            ],
            "image/png": "[encoded data removed]"
          },
          "metadata": {}
        }
      ]
    },
    {
      "cell_type": "markdown",
      "source": [
        "# **Z-Test (Two-Sample)**\n",
        "# Compare means of two independent groups"
      ],
      "metadata": {
        "id": "pqtB_KxRG5FG"
      }
    },
    {
      "cell_type": "markdown",
      "source": [
        "Scenario:\n",
        "Test if the mean petal width of Setosa is significantly different from Virginica.\n",
        "\n",
        "- **Null Hypothesis** (𝐻0): *The mean petal width of Setosa is equal to the mean petal width of Virginica.*\n",
        "- **Alternative Hypothesis** (𝐻1): The mean petal width of Setosa is not equal to the mean petal width of Virginica."
      ],
      "metadata": {
        "id": "_lc-HXEFHFzj"
      }
    },
    {
      "cell_type": "code",
      "source": [
        "# Data preparation\n",
        "setosa_petal_width = df[df['species'] == 'setosa']['petal width (cm)']\n",
        "virginica_petal_width = df[df['species'] == 'virginica']['petal width (cm)']\n",
        "\n",
        "# Perform Two-Sample Z-Test\n",
        "stat, p_value = ztest(setosa_petal_width, virginica_petal_width)\n",
        "\n",
        "# Use the generalized decision function\n",
        "result_z_test_two_sample = perform_hypothesis_test(\n",
        "    stat=stat,\n",
        "    p_value=p_value,\n",
        "    alpha=0.05,\n",
        "    null_hypothesis=\"The mean petal width of Setosa is equal to the mean petal width of Virginica.\",\n",
        "    alternative_hypothesis=\"The mean petal width of Setosa is not equal to the mean petal width of Virginica.\",\n",
        ")\n",
        "print(\"Two-Sample Z-Test Results:\")\n",
        "result_z_test_two_sample\n"
      ],
      "metadata": {
        "colab": {
          "base_uri": "https://localhost:8080/"
        },
        "id": "w_MHtY-5HC5U",
        "outputId": "adc33eb9-51fb-434d-c2f8-872ed2d8a0c4"
      },
      "execution_count": null,
      "outputs": [
        {
          "output_type": "stream",
          "name": "stdout",
          "text": [
            "Two-Sample Z-Test Results:\n"
          ]
        },
        {
          "output_type": "execute_result",
          "data": {
            "text/plain": [
              "{'statistic': -42.7857975196172,\n",
              " 'p_value': 0.0,\n",
              " 'alpha': 0.05,\n",
              " 'null_hypothesis': 'The mean petal width of Setosa is equal to the mean petal width of Virginica.',\n",
              " 'alternative_hypothesis': 'The mean petal width of Setosa is not equal to the mean petal width of Virginica.',\n",
              " 'decision': 'Reject the null hypothesis: The mean petal width of Setosa is not equal to the mean petal width of Virginica.'}"
            ]
          },
          "metadata": {},
          "execution_count": 27
        }
      ]
    },
    {
      "cell_type": "markdown",
      "source": [
        "# **ANOVA**:\n",
        "# Compare means of multiple groups"
      ],
      "metadata": {
        "id": "RxMUGmnoIPTs"
      }
    },
    {
      "cell_type": "markdown",
      "source": [
        "Scenario:\n",
        "Compare the sepal widths of all three species (Setosa, Versicolor, and Virginica).\n",
        "\n",
        "- **Null Hypothesis** (𝐻0): *The mean sepal widths of all three species are equal*.\n",
        "- **Alternative Hypothesis** (𝐻1​): *At least one species has a different mean sepal width*."
      ],
      "metadata": {
        "id": "L26_Le4lIUoo"
      }
    },
    {
      "cell_type": "code",
      "source": [
        "from scipy.stats import f_oneway\n",
        "\n",
        "# Data preparation\n",
        "setosa_sepal_width = df[df['species'] == 'setosa']['sepal width (cm)']\n",
        "versicolor_sepal_width = df[df['species'] == 'versicolor']['sepal width (cm)']\n",
        "virginica_sepal_width = df[df['species'] == 'virginica']['sepal width (cm)']\n",
        "\n",
        "# Perform ANOVA\n",
        "stat, p_value = f_oneway(setosa_sepal_width, versicolor_sepal_width, virginica_sepal_width)\n",
        "\n",
        "# Use the generalized decision function\n",
        "result_anova = perform_hypothesis_test(\n",
        "    stat=stat,\n",
        "    p_value=p_value,\n",
        "    alpha=0.05,\n",
        "    null_hypothesis=\"The mean sepal widths of all three species are equal.\",\n",
        "    alternative_hypothesis=\"At least one species has a different mean sepal width.\",\n",
        ")\n",
        "print(\"ANOVA Results:\")\n",
        "result_anova\n",
        "\n"
      ],
      "metadata": {
        "id": "_dtWcVoK2xQC",
        "colab": {
          "base_uri": "https://localhost:8080/"
        },
        "outputId": "8e9dab82-e48b-4809-c4d2-755ab282f670"
      },
      "execution_count": null,
      "outputs": [
        {
          "output_type": "stream",
          "name": "stdout",
          "text": [
            "ANOVA Results:\n"
          ]
        },
        {
          "output_type": "execute_result",
          "data": {
            "text/plain": [
              "{'statistic': 49.160040089612075,\n",
              " 'p_value': 4.492017133309115e-17,\n",
              " 'alpha': 0.05,\n",
              " 'null_hypothesis': 'The mean sepal widths of all three species are equal.',\n",
              " 'alternative_hypothesis': 'At least one species has a different mean sepal width.',\n",
              " 'decision': 'Reject the null hypothesis: At least one species has a different mean sepal width.'}"
            ]
          },
          "metadata": {},
          "execution_count": 28
        }
      ]
    },
    {
      "cell_type": "markdown",
      "source": [
        "#  **T-Test**\n",
        "# Comparing Two Models"
      ],
      "metadata": {
        "id": "uHN9nPttKXHt"
      }
    },
    {
      "cell_type": "markdown",
      "source": [
        "Problem:\n",
        "We compare Accuracies of two classification models (e.g., Logistic Regression and Decision Tree) on the Iris dataset.\n",
        "\n",
        "\n",
        "- **Null Hypothesis** (𝐻0): *The mean performance of the two models is equal.*\n",
        "- **Alternative Hypothesis** (𝐻1): *The mean performance of the two models is not equal.*"
      ],
      "metadata": {
        "id": "AZn4rCGCKptK"
      }
    },
    {
      "cell_type": "code",
      "source": [
        "import numpy as np\n",
        "from sklearn.model_selection import train_test_split\n",
        "from sklearn.linear_model import LogisticRegression\n",
        "from sklearn.tree import DecisionTreeClassifier\n",
        "from sklearn.metrics import accuracy_score\n",
        "from scipy.stats import ttest_rel\n",
        "\n",
        "# Load the Iris dataset\n",
        "iris = load_iris(as_frame=True)\n",
        "df = iris.frame\n",
        "X = df[['sepal length (cm)', 'sepal width (cm)', 'petal length (cm)', 'petal width (cm)']]\n",
        "y = df['target']  # Target: species\n",
        "\n",
        "# Number of iterations for repeated evaluation\n",
        "n_iterations = 30\n",
        "accuracy_logistic = []\n",
        "accuracy_tree = []\n",
        "\n",
        "# Repeat model training and evaluation\n",
        "for i in range(n_iterations):\n",
        "    # Split the data randomly\n",
        "    X_train, X_test, y_train, y_test = train_test_split(X, y, test_size=0.3, random_state=i)\n",
        "\n",
        "    # Logistic Regression\n",
        "    log_model = LogisticRegression(max_iter=200, random_state=i)\n",
        "    log_model.fit(X_train, y_train)\n",
        "    y_pred_log = log_model.predict(X_test)\n",
        "    accuracy_logistic.append(accuracy_score(y_test, y_pred_log))\n",
        "\n",
        "    # Decision Tree Classifier\n",
        "    tree_model = DecisionTreeClassifier(random_state=i)\n",
        "    tree_model.fit(X_train, y_train)\n",
        "    y_pred_tree = tree_model.predict(X_test)\n",
        "    accuracy_tree.append(accuracy_score(y_test, y_pred_tree))\n",
        "\n",
        "# Perform Paired T-Test\n",
        "t_stat, p_value = ttest_rel(accuracy_logistic, accuracy_tree)\n",
        "\n",
        "# Decision Rule\n",
        "alpha = 0.05\n",
        "if p_value < alpha:\n",
        "    decision = \"Reject the null hypothesis: The two models have significantly different performances.\"\n",
        "else:\n",
        "    decision = \"Fail to reject the null hypothesis: No significant difference in the models' performances.\"\n",
        "\n",
        "# Print results\n",
        "print(\"Paired T-Test Results:\")\n",
        "print(f\"T-Statistic: {t_stat:.2f}\")\n",
        "print(f\"P-Value: {p_value:.4f}\")\n",
        "print(f\"Decision: {decision}\")\n",
        "\n",
        "# Optional: Print Mean Accuracies\n",
        "print(f\"\\nMean Accuracy of Logistic Regression: {np.mean(accuracy_logistic):.4f}\")\n",
        "print(f\"Mean Accuracy of Decision Tree: {np.mean(accuracy_tree):.4f}\")\n"
      ],
      "metadata": {
        "colab": {
          "base_uri": "https://localhost:8080/"
        },
        "id": "Mxu7qdibJIQR",
        "outputId": "d1eec1fa-9232-43af-c74f-5c50ffb079f4"
      },
      "execution_count": null,
      "outputs": [
        {
          "output_type": "stream",
          "name": "stdout",
          "text": [
            "Paired T-Test Results:\n",
            "T-Statistic: 6.13\n",
            "P-Value: 0.0000\n",
            "Decision: Reject the null hypothesis: The two models have significantly different performances.\n",
            "\n",
            "Mean Accuracy of Logistic Regression: 0.9659\n",
            "Mean Accuracy of Decision Tree: 0.9481\n"
          ]
        }
      ]
    },
    {
      "cell_type": "code",
      "source": [],
      "metadata": {
        "id": "XG4rhPh9Nyk7"
      },
      "execution_count": null,
      "outputs": []
    }
  ]
}